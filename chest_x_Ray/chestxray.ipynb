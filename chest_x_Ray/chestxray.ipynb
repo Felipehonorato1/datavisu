{
  "nbformat": 4,
  "nbformat_minor": 0,
  "metadata": {
    "colab": {
      "name": "chestxray.ipynb",
      "provenance": [],
      "collapsed_sections": [],
      "mount_file_id": "1Dz9BFkyzp9xvcxfsKxwxBbdyND1izI_e",
      "authorship_tag": "ABX9TyMkXKG892jaRhxlTviyhRxM",
      "include_colab_link": true
    },
    "kernelspec": {
      "name": "python3",
      "display_name": "Python 3"
    },
    "accelerator": "GPU"
  },
  "cells": [
    {
      "cell_type": "markdown",
      "metadata": {
        "id": "view-in-github",
        "colab_type": "text"
      },
      "source": [
        "<a href=\"https://colab.research.google.com/github/Felipehonorato1/datavisu/blob/master/chest_x_Ray/chestxray.ipynb\" target=\"_parent\"><img src=\"https://colab.research.google.com/assets/colab-badge.svg\" alt=\"Open In Colab\"/></a>"
      ]
    },
    {
      "cell_type": "code",
      "metadata": {
        "id": "FGJuXq4B1z-i"
      },
      "source": [
        "from keras.models import Sequential\n",
        "from keras.preprocessing import image_dataset_from_directory\n",
        "from keras.preprocessing.image import ImageDataGenerator\n",
        "from keras.layers import Conv2D, MaxPooling2D, Dense, Flatten, Activation, Dropout, BatchNormalization\n",
        "from keras.callbacks import TensorBoard\n",
        "import keras.layers as L\n",
        "from google.colab.patches import cv2_imshow\n",
        "import seaborn as sns\n",
        "from keras.applications import Xception, VGG16\n",
        "import matplotlib.pyplot as plt\n",
        "import numpy as np\n",
        "import keras\n",
        "import os\n",
        "import cv2\n",
        "\n",
        "np.random.seed(1000)"
      ],
      "execution_count": 1,
      "outputs": []
    },
    {
      "cell_type": "code",
      "metadata": {
        "id": "BVEJ8Zy3sOsm"
      },
      "source": [
        "val_path = '/content/drive/My Drive/chest_xray/val/'\n",
        "train_path = '/content/drive/My Drive/chest_xray/train/'\n",
        "test_path = '/content/drive/My Drive/chest_xray/test/'"
      ],
      "execution_count": 2,
      "outputs": []
    },
    {
      "cell_type": "code",
      "metadata": {
        "id": "EzjHA466mohz"
      },
      "source": [
        "img_shape = []\n",
        "for img in os.listdir(train_path+\"/\"+\"NORMAL/\")[:10]:\n",
        "  img = cv2.imread(train_path+\"/\"+\"NORMAL/\"+img, 0)\n",
        "  img_shape.append(img.shape);"
      ],
      "execution_count": 3,
      "outputs": []
    },
    {
      "cell_type": "code",
      "metadata": {
        "colab": {
          "base_uri": "https://localhost:8080/"
        },
        "id": "kcf7XbOynufy",
        "outputId": "bf34fe67-e22e-49f4-c6e7-a916969917dc"
      },
      "source": [
        "img_shape\n",
        "# Conseguimos ver que as imagens estão em uma resolução alta em todo o dataset mas que não seguem um padrão. \n",
        "# Colocarei todas no formato (256,256,1)"
      ],
      "execution_count": 4,
      "outputs": [
        {
          "output_type": "execute_result",
          "data": {
            "text/plain": [
              "[(1909, 2566),\n",
              " (2067, 2844),\n",
              " (2169, 2534),\n",
              " (2326, 2091),\n",
              " (1914, 1679),\n",
              " (1815, 1857),\n",
              " (2583, 2916),\n",
              " (1522, 2118),\n",
              " (2540, 2428),\n",
              " (1978, 1979)]"
            ]
          },
          "metadata": {
            "tags": []
          },
          "execution_count": 4
        }
      ]
    },
    {
      "cell_type": "code",
      "metadata": {
        "colab": {
          "base_uri": "https://localhost:8080/"
        },
        "id": "SNaCKkuhj6n_",
        "outputId": "6dbea73d-d0b2-458b-e69a-9571e3fca920"
      },
      "source": [
        "# train_gen = ImageDataGenerator()\n",
        "# test_gen = ImageDataGenerator()\n",
        "# val_gen = ImageDataGenerator()\n",
        "# train_data = train_gen.flow_from_directory('/content/drive/My Drive/chest_xray/train', color_mode = 'grayscale', class_mode = 'binary', seed = 301)\n",
        "# test_data = test_gen.flow_from_directory('/content/drive/My Drive/chest_xray/test', color_mode = 'grayscale', class_mode = 'binary', seed = 301)\n",
        "# val_data = test_gen.flow_from_directory('/content/drive/My Drive/chest_xray/val', color_mode = 'grayscale', class_mode = 'binary', seed = 301)"
      ],
      "execution_count": 5,
      "outputs": [
        {
          "output_type": "stream",
          "text": [
            "Found 5216 images belonging to 2 classes.\n",
            "Found 624 images belonging to 2 classes.\n",
            "Found 16 images belonging to 2 classes.\n"
          ],
          "name": "stdout"
        }
      ]
    },
    {
      "cell_type": "code",
      "metadata": {
        "colab": {
          "base_uri": "https://localhost:8080/"
        },
        "id": "Hn1G9NY7kqO6",
        "outputId": "571a39a0-4717-42e2-8a0a-387f9a0fff3a"
      },
      "source": [
        "# print(train_data.image_shape)\n",
        "# print(test_data.image_shape)\n",
        "# print(val_data.image_shape)"
      ],
      "execution_count": 6,
      "outputs": [
        {
          "output_type": "stream",
          "text": [
            "(256, 256, 1)\n",
            "(256, 256, 1)\n",
            "(256, 256, 1)\n"
          ],
          "name": "stdout"
        }
      ]
    },
    {
      "cell_type": "code",
      "metadata": {
        "id": "icziWXQsksly"
      },
      "source": [
        "def VGG16(weights_path = None):\n",
        "  classificador = Sequential()\n",
        "\n",
        "  classificador.add(Conv2D(64, kernel_size = (3,3), input_shape = (224,224,1), data_format = 'channels_last', activation = 'relu'))\n",
        "  classificador.add(MaxPooling2D(pool_size = (2,2), strides = 2))\n",
        "\n",
        "  classificador.add(Conv2D(128, kernel_size= (3,3), activation = 'relu'))\n",
        "  classificador.add(MaxPooling2D(pool_size = (2,2), strides = 2))\n",
        "\n",
        "  classificador.add(Conv2D(256, kernel_size = (3,3), activation = 'relu'))\n",
        "  classificador.add(MaxPooling2D(pool_size = (2,2), strides = 2))\n",
        "\n",
        "  classificador.add(Conv2D((512),kernel_size = (3,3), activation = 'relu'))\n",
        "  classificador.add(MaxPooling2D(pool_size = (2,2), strides = 2))\n",
        "\n",
        "  classificador.add(Conv2D(512, kernel_size = (3,3), activation = 'relu'))\n",
        "  classificador.add(MaxPooling2D(pool_size = (2,2), strides = 2))\n",
        "\n",
        "  classificador.add(Flatten())\n",
        "  classificador.add(Dense(2048, activation = 'relu'))\n",
        "  classificador.add(Dropout(0.5))\n",
        "  classificador.add(Dense(1024, activation = 'relu'))\n",
        "  classificador.add(Dropout(0.5))\n",
        "  classificador.add(Dense(512, activation = 'relu'))\n",
        "  classificador.add(Dropout(0.5))\n",
        "  classificador.add(Dense(128, activation = 'relu'))\n",
        "  classificador.add(Dense(1, activation = 'sigmoid'))\n",
        "\n",
        "  if weights_path:\n",
        "    classificador.load_weights(weights_path)\n",
        "\n",
        "  classificador.compile(optimizer = 'adam', loss = 'binary_crossentropy', metrics = ['accuracy'])\n",
        "  classificador.summary()\n",
        "  return classificador"
      ],
      "execution_count": 7,
      "outputs": []
    },
    {
      "cell_type": "code",
      "metadata": {
        "id": "DshGxSbAuWVb"
      },
      "source": [
        "from keras.preprocessing import image_dataset_from_directory"
      ],
      "execution_count": 8,
      "outputs": []
    },
    {
      "cell_type": "code",
      "metadata": {
        "colab": {
          "base_uri": "https://localhost:8080/"
        },
        "id": "Y3Xs5rjLvJIc",
        "outputId": "6321f780-9c0f-4520-e969-c5b3b15034c0"
      },
      "source": [
        "train_data = image_dataset_from_directory(train_path,color_mode = 'grayscale', image_size = (224,224), seed = 301)\n",
        "test_data = image_dataset_from_directory(test_path,color_mode = 'grayscale', image_size = (224,224), seed = 301)\n",
        "val_data = image_dataset_from_directory(val_path,color_mode = 'grayscale', image_size = (224,224), seed = 301)"
      ],
      "execution_count": 9,
      "outputs": [
        {
          "output_type": "stream",
          "text": [
            "Found 5216 files belonging to 2 classes.\n",
            "Found 624 files belonging to 2 classes.\n",
            "Found 16 files belonging to 2 classes.\n"
          ],
          "name": "stdout"
        }
      ]
    },
    {
      "cell_type": "code",
      "metadata": {
        "colab": {
          "base_uri": "https://localhost:8080/"
        },
        "id": "B9o91ysFvact",
        "outputId": "b8fac5c0-8dc4-4275-bd8d-fc8d350f4764"
      },
      "source": [
        "vgg = VGG16()"
      ],
      "execution_count": 10,
      "outputs": [
        {
          "output_type": "stream",
          "text": [
            "Model: \"sequential\"\n",
            "_________________________________________________________________\n",
            "Layer (type)                 Output Shape              Param #   \n",
            "=================================================================\n",
            "conv2d (Conv2D)              (None, 222, 222, 64)      640       \n",
            "_________________________________________________________________\n",
            "max_pooling2d (MaxPooling2D) (None, 111, 111, 64)      0         \n",
            "_________________________________________________________________\n",
            "conv2d_1 (Conv2D)            (None, 109, 109, 128)     73856     \n",
            "_________________________________________________________________\n",
            "max_pooling2d_1 (MaxPooling2 (None, 54, 54, 128)       0         \n",
            "_________________________________________________________________\n",
            "conv2d_2 (Conv2D)            (None, 52, 52, 256)       295168    \n",
            "_________________________________________________________________\n",
            "max_pooling2d_2 (MaxPooling2 (None, 26, 26, 256)       0         \n",
            "_________________________________________________________________\n",
            "conv2d_3 (Conv2D)            (None, 24, 24, 512)       1180160   \n",
            "_________________________________________________________________\n",
            "max_pooling2d_3 (MaxPooling2 (None, 12, 12, 512)       0         \n",
            "_________________________________________________________________\n",
            "conv2d_4 (Conv2D)            (None, 10, 10, 512)       2359808   \n",
            "_________________________________________________________________\n",
            "max_pooling2d_4 (MaxPooling2 (None, 5, 5, 512)         0         \n",
            "_________________________________________________________________\n",
            "flatten (Flatten)            (None, 12800)             0         \n",
            "_________________________________________________________________\n",
            "dense (Dense)                (None, 2048)              26216448  \n",
            "_________________________________________________________________\n",
            "dropout (Dropout)            (None, 2048)              0         \n",
            "_________________________________________________________________\n",
            "dense_1 (Dense)              (None, 1024)              2098176   \n",
            "_________________________________________________________________\n",
            "dropout_1 (Dropout)          (None, 1024)              0         \n",
            "_________________________________________________________________\n",
            "dense_2 (Dense)              (None, 512)               524800    \n",
            "_________________________________________________________________\n",
            "dropout_2 (Dropout)          (None, 512)               0         \n",
            "_________________________________________________________________\n",
            "dense_3 (Dense)              (None, 128)               65664     \n",
            "_________________________________________________________________\n",
            "dense_4 (Dense)              (None, 1)                 129       \n",
            "=================================================================\n",
            "Total params: 32,814,849\n",
            "Trainable params: 32,814,849\n",
            "Non-trainable params: 0\n",
            "_________________________________________________________________\n"
          ],
          "name": "stdout"
        }
      ]
    },
    {
      "cell_type": "code",
      "metadata": {
        "id": "Z8uD89dX5Lv3"
      },
      "source": [
        "from keras.callbacks import TensorBoard\n",
        "tensor = TensorBoard()"
      ],
      "execution_count": 11,
      "outputs": []
    },
    {
      "cell_type": "code",
      "metadata": {
        "colab": {
          "base_uri": "https://localhost:8080/"
        },
        "id": "5ZoKtcEYvbgL",
        "outputId": "706a1574-89ad-4151-ba90-cd86be655a1c"
      },
      "source": [
        "history = vgg.fit(train_data, use_multiprocessing= True, batch_size = 128, validation_data= val_data, workers = -1)"
      ],
      "execution_count": null,
      "outputs": [
        {
          "output_type": "stream",
          "text": [
            " 80/163 [=============>................] - ETA: 1:50 - loss: 0.6010 - accuracy: 0.7258"
          ],
          "name": "stdout"
        }
      ]
    },
    {
      "cell_type": "code",
      "metadata": {
        "id": "bYHmaKyG5lId"
      },
      "source": [
        ""
      ],
      "execution_count": null,
      "outputs": []
    },
    {
      "cell_type": "code",
      "metadata": {
        "id": "tJYyHa8J5Sri"
      },
      "source": [
        ""
      ],
      "execution_count": null,
      "outputs": []
    }
  ]
}