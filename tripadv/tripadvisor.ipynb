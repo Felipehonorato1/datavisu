{
  "nbformat": 4,
  "nbformat_minor": 0,
  "metadata": {
    "colab": {
      "name": "tripadvisor.ipynb",
      "provenance": []
    },
    "kernelspec": {
      "name": "python3",
      "display_name": "Python 3"
    },
    "accelerator": "GPU"
  },
  "cells": [
    {
      "cell_type": "code",
      "metadata": {
        "id": "HpMd2TsGRRjd",
        "colab": {
          "base_uri": "https://localhost:8080/"
        },
        "outputId": "d8cfc2df-bf90-4ba5-f9fb-d611370cfa3f"
      },
      "source": [
        "import pandas as pd\n",
        "import numpy as np\n",
        "import string\n",
        "import seaborn as sns\n",
        "import nltk \n",
        "import matplotlib.pyplot as plt\n",
        "nltk.download('stopwords');"
      ],
      "execution_count": 2,
      "outputs": [
        {
          "output_type": "stream",
          "text": [
            "[nltk_data] Downloading package stopwords to /root/nltk_data...\n",
            "[nltk_data]   Package stopwords is already up-to-date!\n"
          ],
          "name": "stdout"
        }
      ]
    },
    {
      "cell_type": "code",
      "metadata": {
        "id": "G9I_O513RcH5"
      },
      "source": [
        "dados = pd.read_csv('tripadvisor_hotel_reviews.csv')"
      ],
      "execution_count": 3,
      "outputs": []
    },
    {
      "cell_type": "code",
      "metadata": {
        "id": "jiuxzqysSj22",
        "colab": {
          "base_uri": "https://localhost:8080/",
          "height": 197
        },
        "outputId": "e74af055-87f4-49b5-94f5-90c427e48ce6"
      },
      "source": [
        "dados.head()"
      ],
      "execution_count": 4,
      "outputs": [
        {
          "output_type": "execute_result",
          "data": {
            "text/html": [
              "<div>\n",
              "<style scoped>\n",
              "    .dataframe tbody tr th:only-of-type {\n",
              "        vertical-align: middle;\n",
              "    }\n",
              "\n",
              "    .dataframe tbody tr th {\n",
              "        vertical-align: top;\n",
              "    }\n",
              "\n",
              "    .dataframe thead th {\n",
              "        text-align: right;\n",
              "    }\n",
              "</style>\n",
              "<table border=\"1\" class=\"dataframe\">\n",
              "  <thead>\n",
              "    <tr style=\"text-align: right;\">\n",
              "      <th></th>\n",
              "      <th>Review</th>\n",
              "      <th>Rating</th>\n",
              "    </tr>\n",
              "  </thead>\n",
              "  <tbody>\n",
              "    <tr>\n",
              "      <th>0</th>\n",
              "      <td>nice hotel expensive parking got good deal sta...</td>\n",
              "      <td>4</td>\n",
              "    </tr>\n",
              "    <tr>\n",
              "      <th>1</th>\n",
              "      <td>ok nothing special charge diamond member hilto...</td>\n",
              "      <td>2</td>\n",
              "    </tr>\n",
              "    <tr>\n",
              "      <th>2</th>\n",
              "      <td>nice rooms not 4* experience hotel monaco seat...</td>\n",
              "      <td>3</td>\n",
              "    </tr>\n",
              "    <tr>\n",
              "      <th>3</th>\n",
              "      <td>unique, great stay, wonderful time hotel monac...</td>\n",
              "      <td>5</td>\n",
              "    </tr>\n",
              "    <tr>\n",
              "      <th>4</th>\n",
              "      <td>great stay great stay, went seahawk game aweso...</td>\n",
              "      <td>5</td>\n",
              "    </tr>\n",
              "  </tbody>\n",
              "</table>\n",
              "</div>"
            ],
            "text/plain": [
              "                                              Review  Rating\n",
              "0  nice hotel expensive parking got good deal sta...       4\n",
              "1  ok nothing special charge diamond member hilto...       2\n",
              "2  nice rooms not 4* experience hotel monaco seat...       3\n",
              "3  unique, great stay, wonderful time hotel monac...       5\n",
              "4  great stay great stay, went seahawk game aweso...       5"
            ]
          },
          "metadata": {
            "tags": []
          },
          "execution_count": 4
        }
      ]
    },
    {
      "cell_type": "code",
      "metadata": {
        "id": "g50KnDeSS7Fo",
        "colab": {
          "base_uri": "https://localhost:8080/",
          "height": 334
        },
        "outputId": "77cb3a75-89d5-4645-b5d4-4fe9cf1ba071"
      },
      "source": [
        "sns.countplot(dados['Rating']);"
      ],
      "execution_count": 5,
      "outputs": [
        {
          "output_type": "stream",
          "text": [
            "/usr/local/lib/python3.6/dist-packages/seaborn/_decorators.py:43: FutureWarning: Pass the following variable as a keyword arg: x. From version 0.12, the only valid positional argument will be `data`, and passing other arguments without an explicit keyword will result in an error or misinterpretation.\n",
            "  FutureWarning\n"
          ],
          "name": "stderr"
        },
        {
          "output_type": "display_data",
          "data": {
            "image/png": "[encoded data removed]",
            "text/plain": [
              "<Figure size 432x288 with 1 Axes>"
            ]
          },
          "metadata": {
            "tags": [],
            "needs_background": "light"
          }
        }
      ]
    },
    {
      "cell_type": "code",
      "metadata": {
        "id": "-hIcbHBPS_qM"
      },
      "source": [
        "# Remove stopwords\n",
        "# Remove punctuation \n",
        "# Remove extra whitespaces\n",
        "\n",
        "sw = nltk.corpus.stopwords.words()\n",
        "\n",
        "def clean_text(row):\n",
        "  line = row['Review']\n",
        "  words = line.split()\n",
        "  line = \" \".join(word for word in words if word not in sw and word.isalpha())\n",
        "  row['Clean_text'] = line\n",
        "  return row"
      ],
      "execution_count": 6,
      "outputs": []
    },
    {
      "cell_type": "code",
      "metadata": {
        "id": "JB8c5S-zvHGV"
      },
      "source": [
        "dados = dados.apply(clean_text, axis = 1)"
      ],
      "execution_count": 7,
      "outputs": []
    },
    {
      "cell_type": "code",
      "metadata": {
        "id": "fkYo4IiIlKCG"
      },
      "source": [
        "from sklearn.utils import resample\n",
        "from sklearn.naive_bayes import GaussianNB\n",
        "from sklearn.ensemble import RandomForestClassifier, GradientBoostingClassifier\n",
        "from sklearn.metrics import confusion_matrix, classification_report, accuracy_score\n",
        "from sklearn.model_selection import train_test_split"
      ],
      "execution_count": 8,
      "outputs": []
    },
    {
      "cell_type": "code",
      "metadata": {
        "id": "I3kqHTYbnBng"
      },
      "source": [
        "# downsample_2 = resample(dados[dados['Rating'] == 2], n_samples = len(dados[dados['Rating'] == 1]) , random_state = 301)\n",
        "# downsample_3 = resample(dados[dados['Rating'] == 3], n_samples = len(dados[dados['Rating'] == 1]) , random_state = 301)\n",
        "# downsample_4 = resample(dados[dados['Rating'] == 4], n_samples = len(dados[dados['Rating'] == 1]) , random_state = 301)\n",
        "# downsample_5 = resample(dados[dados['Rating'] == 5], n_samples = len(dados[dados['Rating'] == 1]) , random_state = 301)"
      ],
      "execution_count": 9,
      "outputs": []
    },
    {
      "cell_type": "code",
      "metadata": {
        "id": "JDHvNL9noRXY"
      },
      "source": [
        "#df_final = pd.concat([dados[dados['Rating'] == 1], downsample_2, downsample_3, downsample_4, downsample_5])\n",
        "df_final = dados"
      ],
      "execution_count": 45,
      "outputs": []
    },
    {
      "cell_type": "code",
      "metadata": {
        "id": "cwqYS89RqvK9"
      },
      "source": [
        "from keras.models import Sequential\n",
        "import keras.layers as L\n",
        "from keras.losses import SparseCategoricalCrossentropy\n",
        "from keras.preprocessing.text import Tokenizer\n",
        "from keras.preprocessing.sequence import pad_sequences"
      ],
      "execution_count": 46,
      "outputs": []
    },
    {
      "cell_type": "code",
      "metadata": {
        "id": "TIJJ7iya2XRA"
      },
      "source": [
        "review = df_final['Clean_text'].copy()"
      ],
      "execution_count": 47,
      "outputs": []
    },
    {
      "cell_type": "code",
      "metadata": {
        "id": "Y5b3hwCN1lMS"
      },
      "source": [
        "token = Tokenizer()"
      ],
      "execution_count": 48,
      "outputs": []
    },
    {
      "cell_type": "code",
      "metadata": {
        "id": "47emlRD342Am"
      },
      "source": [
        "token.fit_on_texts(review)"
      ],
      "execution_count": 49,
      "outputs": []
    },
    {
      "cell_type": "code",
      "metadata": {
        "id": "E0TJYDtZ5Sfi"
      },
      "source": [
        "texts = token.texts_to_sequences(review)"
      ],
      "execution_count": 50,
      "outputs": []
    },
    {
      "cell_type": "code",
      "metadata": {
        "id": "BfXLZoER1v9x"
      },
      "source": [
        "texts = pad_sequences(texts, padding='post')"
      ],
      "execution_count": 51,
      "outputs": []
    },
    {
      "cell_type": "code",
      "metadata": {
        "id": "xxHzSRzM8aOT"
      },
      "source": [
        "def encodeLabel(label):\n",
        "    if label == 5 or label == 4: #If the rating is generally positive\n",
        "        return 2 #Give the rating a 2 for positive\n",
        "    if label == 3: #If the rating is generally neutral\n",
        "        return 1 #Give the rating a 1 for neutral\n",
        "    return 0 #Give the rating a 0 for negative\n",
        "\n",
        "labels = [\"Negative\", \"Neutral\", \"Positive\"] #Give our labels a name\n",
        "df_final[\"EncodedRating\"] = df_final[\"Rating\"].apply(encodeLabel)"
      ],
      "execution_count": 63,
      "outputs": []
    },
    {
      "cell_type": "code",
      "metadata": {
        "id": "-zTwIybl2msV"
      },
      "source": [
        "x_treino, x_teste, y_treino, y_teste = train_test_split(texts, df_final['EncodedRating'], random_state = 301, stratify = df_final['Rating'])"
      ],
      "execution_count": 65,
      "outputs": []
    },
    {
      "cell_type": "code",
      "metadata": {
        "id": "egoq8bDL5liU"
      },
      "source": [
        "size = len(token.word_index) + 1\n",
        "epoch = 2\n",
        "batchSize = 32\n",
        "outputDim = 16\n",
        "units = 256"
      ],
      "execution_count": 66,
      "outputs": []
    },
    {
      "cell_type": "code",
      "metadata": {
        "colab": {
          "base_uri": "https://localhost:8080/"
        },
        "id": "U8B-bMfj5dGI",
        "outputId": "a73116a9-bba1-4351-c98d-94798bded691"
      },
      "source": [
        "model = Sequential()\n",
        "model.add(L.Embedding(size, outputDim, input_length= texts.shape[1]))\n",
        "model.add(L.Bidirectional(L.LSTM(units, return_sequences = True)))\n",
        "model.add(L.GlobalMaxPool1D())\n",
        "model.add(L.Dropout(0.3))\n",
        "model.add(L.Dense(64, activation = 'relu'))\n",
        "model.add(L.Dropout(0.3))\n",
        "model.add(L.Dense(3))\n",
        "model.compile(loss = SparseCategoricalCrossentropy(from_logits = True), optimizer = 'adam',metrics = ['accuracy'])\n",
        "model.summary()"
      ],
      "execution_count": 73,
      "outputs": [
        {
          "output_type": "stream",
          "text": [
            "Model: \"sequential_12\"\n",
            "_________________________________________________________________\n",
            "Layer (type)                 Output Shape              Param #   \n",
            "=================================================================\n",
            "embedding_9 (Embedding)      (None, 1481, 16)          706336    \n",
            "_________________________________________________________________\n",
            "bidirectional_9 (Bidirection (None, 1481, 512)         559104    \n",
            "_________________________________________________________________\n",
            "global_max_pooling1d_9 (Glob (None, 512)               0         \n",
            "_________________________________________________________________\n",
            "dropout_18 (Dropout)         (None, 512)               0         \n",
            "_________________________________________________________________\n",
            "dense_17 (Dense)             (None, 64)                32832     \n",
            "_________________________________________________________________\n",
            "dropout_19 (Dropout)         (None, 64)                0         \n",
            "_________________________________________________________________\n",
            "dense_18 (Dense)             (None, 3)                 195       \n",
            "=================================================================\n",
            "Total params: 1,298,467\n",
            "Trainable params: 1,298,467\n",
            "Non-trainable params: 0\n",
            "_________________________________________________________________\n"
          ],
          "name": "stdout"
        }
      ]
    },
    {
      "cell_type": "code",
      "metadata": {
        "colab": {
          "base_uri": "https://localhost:8080/"
        },
        "id": "mGUKk4uyvPaN",
        "outputId": "b0577c1e-cca8-4922-aeb0-a88c6f84f943"
      },
      "source": [
        "history = model.fit(x_treino, y_treino, epochs = 1, validation_split = 0.2, batch_size = batchSize) #Fit the model to the data"
      ],
      "execution_count": 74,
      "outputs": [
        {
          "output_type": "stream",
          "text": [
            "385/385 [==============================] - 74s 193ms/step - loss: 0.5822 - accuracy: 0.7903 - val_loss: 0.4111 - val_accuracy: 0.8409\n"
          ],
          "name": "stdout"
        }
      ]
    },
    {
      "cell_type": "code",
      "metadata": {
        "id": "ccAvl6cmwFbU"
      },
      "source": [
        "# history_dict = history.history\n",
        "# history_dict.keys()"
      ],
      "execution_count": null,
      "outputs": []
    },
    {
      "cell_type": "code",
      "metadata": {
        "id": "9ImQn1pJxJNm"
      },
      "source": [
        "# import matplotlib.pyplot as plt\n",
        "\n",
        "# acc = history_dict['accuracy']\n",
        "# val_acc = history_dict['val_accuracy']\n",
        "# loss = history_dict['loss']\n",
        "# val_loss = history_dict['val_loss']\n",
        "\n",
        "# epochs = range(1, len(acc) + 1)\n",
        "\n",
        "# # \"bo\" is for \"blue dot\"\n",
        "# plt.plot(epochs, loss, 'bo', label='Training loss')\n",
        "# # b is for \"solid blue line\"\n",
        "# plt.plot(epochs, val_loss, 'b', label='Validation loss')\n",
        "# plt.title('Training and validation loss')\n",
        "# plt.xlabel('Epochs')\n",
        "# plt.ylabel('Loss')\n",
        "# plt.legend()\n",
        "\n",
        "# plt.show()\n"
      ],
      "execution_count": null,
      "outputs": []
    },
    {
      "cell_type": "code",
      "metadata": {
        "id": "vkuxC1kn_uhB"
      },
      "source": [
        "predicts = model.predict_classes(x_teste)\n",
        "#loss, accuracy = model.evaluate(x_teste, y_teste)"
      ],
      "execution_count": 82,
      "outputs": []
    },
    {
      "cell_type": "code",
      "metadata": {
        "colab": {
          "base_uri": "https://localhost:8080/"
        },
        "id": "RbWufwZj_0xz",
        "outputId": "c09a3d7e-4054-4537-f8f8-4d2fefc39b89"
      },
      "source": [
        "print(classification_report(predicts,y_teste, target_names = labels))"
      ],
      "execution_count": 83,
      "outputs": [
        {
          "output_type": "stream",
          "text": [
            "              precision    recall  f1-score   support\n",
            "\n",
            "    Negative       0.86      0.65      0.74      1074\n",
            "     Neutral       0.00      0.00      0.00         0\n",
            "    Positive       0.96      0.90      0.93      4049\n",
            "\n",
            "    accuracy                           0.85      5123\n",
            "   macro avg       0.61      0.51      0.56      5123\n",
            "weighted avg       0.94      0.85      0.89      5123\n",
            "\n"
          ],
          "name": "stdout"
        },
        {
          "output_type": "stream",
          "text": [
            "/usr/local/lib/python3.6/dist-packages/sklearn/metrics/_classification.py:1272: UndefinedMetricWarning: Recall and F-score are ill-defined and being set to 0.0 in labels with no true samples. Use `zero_division` parameter to control this behavior.\n",
            "  _warn_prf(average, modifier, msg_start, len(result))\n"
          ],
          "name": "stderr"
        }
      ]
    },
    {
      "cell_type": "code",
      "metadata": {
        "id": "p5DnHY22_7cS"
      },
      "source": [
        ""
      ],
      "execution_count": null,
      "outputs": []
    }
  ]
}